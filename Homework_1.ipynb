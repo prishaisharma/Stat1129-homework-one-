{
  "nbformat": 4,
  "nbformat_minor": 0,
  "metadata": {
    "colab": {
      "provenance": []
    },
    "kernelspec": {
      "name": "python3",
      "display_name": "Python 3"
    },
    "language_info": {
      "name": "python"
    }
  },
  "cells": [
    {
      "cell_type": "code",
      "execution_count": 12,
      "metadata": {
        "colab": {
          "base_uri": "https://localhost:8080/"
        },
        "id": "L1MYH4QaHpN2",
        "outputId": "79e53e4d-ef67-401c-8c85-2cdfa4ea5a38"
      },
      "outputs": [
        {
          "output_type": "stream",
          "name": "stdout",
          "text": [
            "[30, 35, 40, 45, 50, 55, 60]\n",
            "[60, 55, 50, 45, 40, 35, 30]\n",
            "[65, 60, 55, 50, 45, 40, 35, 30]\n"
          ]
        }
      ],
      "source": [
        "numbers=list(range(30,65,5))\n",
        "print(numbers)\n",
        "numbers.reverse()\n",
        "print(numbers)\n",
        "numbers.insert(0,65)\n",
        "print(numbers) "
      ]
    },
    {
      "cell_type": "code",
      "source": [
        "nums=[]\n",
        "nums=list(range(0,21))\n",
        "print(nums)\n",
        "nums.remove(0)\n",
        "print(nums)\n",
        "print(len(nums))\n",
        "print(max(nums))\n",
        "print(min(nums))\n",
        "total=0 \n",
        "for number in [1,2,3,4,5,6,7,8,9,10,11,12,13,14,15,16,17,18,19,20]:\n",
        "  total= total + number\n",
        "  print(\"total=\" ,total, \"and numnber=\", number)\n",
        "\n",
        "\n"
      ],
      "metadata": {
        "colab": {
          "base_uri": "https://localhost:8080/"
        },
        "id": "plRRMlX2mWhD",
        "outputId": "f76afc35-5265-44a3-cba3-7299713b0bc6"
      },
      "execution_count": 58,
      "outputs": [
        {
          "output_type": "stream",
          "name": "stdout",
          "text": [
            "[0, 1, 2, 3, 4, 5, 6, 7, 8, 9, 10, 11, 12, 13, 14, 15, 16, 17, 18, 19, 20]\n",
            "[1, 2, 3, 4, 5, 6, 7, 8, 9, 10, 11, 12, 13, 14, 15, 16, 17, 18, 19, 20]\n",
            "20\n",
            "20\n",
            "1\n",
            "total= 1 and numnber= 1\n",
            "total= 3 and numnber= 2\n",
            "total= 6 and numnber= 3\n",
            "total= 10 and numnber= 4\n",
            "total= 15 and numnber= 5\n",
            "total= 21 and numnber= 6\n",
            "total= 28 and numnber= 7\n",
            "total= 36 and numnber= 8\n",
            "total= 45 and numnber= 9\n",
            "total= 55 and numnber= 10\n",
            "total= 66 and numnber= 11\n",
            "total= 78 and numnber= 12\n",
            "total= 91 and numnber= 13\n",
            "total= 105 and numnber= 14\n",
            "total= 120 and numnber= 15\n",
            "total= 136 and numnber= 16\n",
            "total= 153 and numnber= 17\n",
            "total= 171 and numnber= 18\n",
            "total= 190 and numnber= 19\n",
            "total= 210 and numnber= 20\n"
          ]
        }
      ]
    },
    {
      "cell_type": "code",
      "source": [],
      "metadata": {
        "id": "3ptWIcwRI9bP"
      },
      "execution_count": 58,
      "outputs": []
    },
    {
      "cell_type": "code",
      "source": [
        "weather={ \"sunny\" : \"play\" , \"rainy\" : \"watch tv\" , \"cloudy\" : \"walk\"}\n",
        "print(type(weather))\n",
        "print(\"keys:\", end = \" \" )\n",
        "for key in weather.keys ():\n",
        "  print(key ,end = \" \" )\n",
        "print(\"values:\", end = \" \" )\n",
        "for value in weather.values ():\n",
        "  print( value , end = \" \" )\n",
        "for key, value in weather.items ():\n",
        "  print( \"When\" , key , \"let us\" , value , end = \" \" )  \n",
        "weather.update({\"snowy\":\"ski\"})\n",
        "print(weather) "
      ],
      "metadata": {
        "colab": {
          "base_uri": "https://localhost:8080/"
        },
        "id": "lZqcDL5Hsvov",
        "outputId": "aec32808-8781-4767-cf98-3e22185dbf55"
      },
      "execution_count": 55,
      "outputs": [
        {
          "output_type": "stream",
          "name": "stdout",
          "text": [
            "<class 'dict'>\n",
            "keys: sunny rainy cloudy values: play watch tv walk When sunny let us play When rainy let us watch tv When cloudy let us walk {'sunny': 'play', 'rainy': 'watch tv', 'cloudy': 'walk', 'snowy': 'ski'}\n"
          ]
        }
      ]
    },
    {
      "cell_type": "code",
      "source": [
        "\n",
        "\n",
        "    "
      ],
      "metadata": {
        "id": "yWiIQunlqjqY"
      },
      "execution_count": null,
      "outputs": []
    }
  ]
}